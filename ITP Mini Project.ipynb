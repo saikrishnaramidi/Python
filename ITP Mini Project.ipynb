{
 "cells": [
  {
   "cell_type": "markdown",
   "metadata": {},
   "source": [
    "#### 1.\tA newly opened multinational brand has to make their company logo based on the most occurring characters in the company name. Given a Company name in lower case letters, your task is to get the most common characters in the String. Display the common characters along with their occurrence count. \n",
    "##### Functions/Topics/Data Structures covered here :Dictionaries, Looping, functions"
   ]
  },
  {
   "cell_type": "code",
   "execution_count": 46,
   "metadata": {},
   "outputs": [
    {
     "name": "stdout",
     "output_type": "stream",
     "text": [
      "Enter company name :accenture\n"
     ]
    },
    {
     "data": {
      "text/plain": [
       "{'a': 1, 'c': 2, 'e': 2, 'n': 1, 't': 1, 'u': 1, 'r': 1}"
      ]
     },
     "execution_count": 46,
     "metadata": {},
     "output_type": "execute_result"
    }
   ],
   "source": [
    "company=input(\"Enter company name :\")\n",
    "dict1={}\n",
    "def c_charf(c_char):\n",
    "    for i in c_char:\n",
    "        keys=dict1.keys()\n",
    "        if i in keys:\n",
    "            dict1[i]+=1\n",
    "        else:\n",
    "            dict1[i]=1\n",
    "    return dict1\n",
    "\n",
    "c_charf(company)\n",
    "    "
   ]
  },
  {
   "cell_type": "markdown",
   "metadata": {},
   "source": [
    "#### 2. Validate Email Address : ITP\n",
    "     a. Check for '@' symbol, it should be only 1\n",
    "     b. Only lower case letters are allowed\n",
    "     c. Numbers are allowed\n",
    "     e. No symbols allowed other than '.' & '_'\n",
    "##### Functions/topics/Data structures used here : user defined functions,built-in-functions, list,  for loop, if else structure,logical operators"
   ]
  },
  {
   "cell_type": "code",
   "execution_count": 2,
   "metadata": {},
   "outputs": [
    {
     "name": "stdout",
     "output_type": "stream",
     "text": [
      "Enter your Email address :Saik@gmail.com\n",
      "Enter valid Email address :\n"
     ]
    },
    {
     "data": {
      "text/plain": [
       "'Error :Upper Cases not allowed'"
      ]
     },
     "execution_count": 2,
     "metadata": {},
     "output_type": "execute_result"
    }
   ],
   "source": [
    "#Checking @ count in email\n",
    "def check(at_rate):\n",
    "    count=0\n",
    "    for i in Email_address:\n",
    "        if i==\"@\":\n",
    "            count+=1\n",
    "    if count==1:\n",
    "        return lower_case(at_rate)\n",
    "    else:\n",
    "        print(\"Enter valid Email address :\")\n",
    "        return \"Error :Email should have only one '@'-symbol\"\n",
    "\n",
    "#Checking lowercases in email    \n",
    "def lower_case(lwr_case):\n",
    "    count=0\n",
    "    sym=[\"@\",\"_\",\".\"]\n",
    "    \n",
    "    for i in Email_address:\n",
    "        \n",
    "        if ord(i) in range(65,91):\n",
    "            count+=1\n",
    "\n",
    "    if count==0:\n",
    "        return symbols(symbols)\n",
    "    else:\n",
    "        print(\"Enter valid Email address :\")\n",
    "        return \"Error :Upper Cases not allowed\"\n",
    "\n",
    "#Checking symbols in email    \n",
    "def symbols(symbols):\n",
    "    sym=[\"@\",\"_\",\".\"]\n",
    "    count=0\n",
    "    for i in Email_address:\n",
    "        if (i.isalnum()) or (i in sym):\n",
    "            count+=1\n",
    "            \n",
    "    if count==len(Email_address):\n",
    "        \n",
    "        return \"EMAIL IS VALIDATED\"\n",
    "    else:\n",
    "        \n",
    "        print(\"Enter valid Email address :\")\n",
    "        return \"Error :No symbols allowed other than '.' & '_'\"\n",
    "\n",
    "\n",
    "Email_address=input(\"Enter your Email address :\")   \n",
    "\n",
    "check(Email_address)\n",
    "        \n"
   ]
  },
  {
   "cell_type": "markdown",
   "metadata": {},
   "source": [
    "#### 3. Validate PAN Card Number : ITP\n",
    "1. Length must be 10 characters\n",
    "2. First 5 characters must be upper case Aplphabets.\n",
    "3. Next four characters must be Number (0 to 9)\n",
    "4. Last character must be upper case alphabat\n",
    "5. Must not contain any other special symbols\n",
    "\n",
    "##### Functions/Topics/Data Structures Covered here: user defined functions,built-in functions,if else structure,logical operators"
   ]
  },
  {
   "cell_type": "code",
   "execution_count": 20,
   "metadata": {},
   "outputs": [
    {
     "name": "stdout",
     "output_type": "stream",
     "text": [
      "Enter PAN number :UTRED8794M\n"
     ]
    },
    {
     "data": {
      "text/plain": [
       "'PAN is Verified Successfully'"
      ]
     },
     "execution_count": 20,
     "metadata": {},
     "output_type": "execute_result"
    }
   ],
   "source": [
    "#checking if lenght is 10 and alpnum and last char\n",
    "def Check3(lup):\n",
    "    if lup.isalnum():\n",
    "        if (len(lup)==10):\n",
    "            \n",
    "            if ord(lup[-1]) in range(65,91):\n",
    "                  return upperf(lup)     \n",
    "            else:\n",
    "                return \"Last character must be UpperCase Alphabet\"\n",
    "        else:\n",
    "            return \"Length must be equal to 10\"\n",
    "    else:\n",
    "        return \"No symbols are allowed\"\n",
    "\n",
    "#checking if first 5 letters are Upper case\n",
    "def upperf(upper):\n",
    "    count=0\n",
    "    for i in range(0,5):\n",
    "        if ord(upper[i]) in range(65,91):\n",
    "            count+=1\n",
    "    if count==5:\n",
    "        return c_numf(upper)\n",
    "    else:\n",
    "        return \"First 5 characters must be Upper Case letters\"\n",
    "\n",
    "#checking if first 6 to 9 charcters are numbers    \n",
    "def c_numf(c_num):\n",
    "    count=0\n",
    "    for i in range(5,9):\n",
    "        if ord(c_num[i]) in range(48,58):\n",
    "            count+=1\n",
    "    if count==4:\n",
    "        return \"PAN is Verified Successfully\"\n",
    "    else:\n",
    "        return \"six to nine characters must be number\"\n",
    "\n",
    "\n",
    "    \n",
    "PAN=input(\"Enter PAN number :\")        \n",
    "        \n",
    "Check3(PAN)    \n",
    "\n"
   ]
  },
  {
   "cell_type": "code",
   "execution_count": null,
   "metadata": {},
   "outputs": [],
   "source": []
  },
  {
   "cell_type": "markdown",
   "metadata": {},
   "source": [
    "#### 4.\tConvert list of Nested Dictionaries into a dataframe. [Input : Nested Dictionaries]  ITP\n",
    "\n",
    "    a. Create Nested Dictionary (minimum 3 dictionaries within, Minimum 5 Keys each - can be different or same keys for all dictionaries )\n",
    "    b. access elements of Nested Dictionary\n",
    "        i.access the contents of Inner Dictionaries\n",
    "        ii.access all the elements of Nested dictionary\n",
    "        iii.Access Fare and Destination if Name= Abhi, in Passenger Dictionary\n",
    "        iv. Iterate through Dictionaries and print each value \n",
    "   \n",
    "###### Topics/Functions/Data Structures Covered here: Dictionaries,Nested Dictionaries, Nested For loops, Indexing,     "
   ]
  },
  {
   "cell_type": "code",
   "execution_count": 13,
   "metadata": {},
   "outputs": [],
   "source": [
    "\n",
    "dict1={'name' : 'sunny','age' :26,'city' : 'hyderabad','mobile':9876543210,'email':'sk@gmail.com'}\n",
    "dict2={'name' : 'raju','weight' : 65,'city' : 'bangalore','mobile':9876534210,'email':'sk1@gmail.com'}\n",
    "passenger={'name' : 'Abhi','fare' : 30,'Destination' : 'Delhi','mobile':9865473210,'email':'sk3@gmail.com'}\n",
    "\n",
    "student_data = {1 :dict1 ,2 :dict2 ,3 :passenger }\n"
   ]
  },
  {
   "cell_type": "code",
   "execution_count": 12,
   "metadata": {},
   "outputs": [
    {
     "data": {
      "text/plain": [
       "{1: {'name': 'sunny',\n",
       "  'age': 26,\n",
       "  'city': 'hyderabad',\n",
       "  'mobile': 9876543210,\n",
       "  'email': 'sk@gmail.com'},\n",
       " 2: {'name': 'raju',\n",
       "  'weight': 65,\n",
       "  'city': 'bangalore',\n",
       "  'mobile': 9876534210,\n",
       "  'email': 'sk1@gmail.com'},\n",
       " 3: {'name': 'Abhi',\n",
       "  'fare': 30,\n",
       "  'Destination': 'Delhi',\n",
       "  'mobile': 9865473210,\n",
       "  'email': 'sk3@gmail.com'}}"
      ]
     },
     "execution_count": 12,
     "metadata": {},
     "output_type": "execute_result"
    }
   ],
   "source": [
    "#access content of inner dictinoary\n",
    "student_data"
   ]
  },
  {
   "cell_type": "code",
   "execution_count": 11,
   "metadata": {},
   "outputs": [
    {
     "name": "stdout",
     "output_type": "stream",
     "text": [
      "{'name': 'sunny', 'age': 26, 'city': 'hyderabad', 'mobile': 9876543210, 'email': 'sk@gmail.com'}\n",
      "{'name': 'raju', 'weight': 65, 'city': 'bangalore', 'mobile': 9876534210, 'email': 'sk1@gmail.com'}\n",
      "{'name': 'Abhi', 'fare': 30, 'Destination': 'Delhi', 'mobile': 9865473210, 'email': 'sk3@gmail.com'}\n"
     ]
    }
   ],
   "source": [
    "#access all the elements of Nested dictionary\n",
    "print(student_data[1])\n",
    "print(student_data[2])\n",
    "print(student_data[3])"
   ]
  },
  {
   "cell_type": "code",
   "execution_count": 18,
   "metadata": {},
   "outputs": [
    {
     "name": "stdout",
     "output_type": "stream",
     "text": [
      "30\n",
      "Delhi\n"
     ]
    }
   ],
   "source": [
    "#iii.Access Fare and Destination if Name= Abhi, in Passenger Dictionary\n",
    "\n",
    "for s3_key,s3_value  in student_data[3].items():\n",
    "    if s3_value==\"Abhi\":\n",
    "        print(student_data[3]['fare'])\n",
    "        print(student_data[3]['Destination'])\n"
   ]
  },
  {
   "cell_type": "code",
   "execution_count": 9,
   "metadata": {},
   "outputs": [
    {
     "name": "stdout",
     "output_type": "stream",
     "text": [
      "\n",
      " dictionary : 1\n",
      "name : sunny\n",
      "age : 26\n",
      "city : hyderabad\n",
      "mobile : 9876543210\n",
      "email : sk@gmail.com\n",
      "\n",
      " dictionary : 2\n",
      "name : raju\n",
      "weight : 65\n",
      "city : bangalore\n",
      "mobile : 9876534210\n",
      "email : sk1@gmail.com\n",
      "\n",
      " dictionary : 3\n",
      "name : Abhi\n",
      "fare : 30\n",
      "city : Delhi\n",
      "mobile : 9865473210\n",
      "email : sk3@gmail.com\n"
     ]
    }
   ],
   "source": [
    "#iv. Iterate through Dictionaries and print each value \n",
    "\n",
    "\n",
    "for s_key,s_value  in student_data.items():\n",
    "    print(\"\\n dictionary :\", s_key)\n",
    "    \n",
    "    for k in s_value:\n",
    "        print(k,\":\",s_value[k])"
   ]
  },
  {
   "cell_type": "markdown",
   "metadata": {},
   "source": [
    "#### 5. Find the Fibonacci Series and their cubes, using Map and Lambda and reduce Functions.\n",
    "##### Functions used here: reduce, map, lambda"
   ]
  },
  {
   "cell_type": "code",
   "execution_count": 19,
   "metadata": {},
   "outputs": [
    {
     "name": "stdout",
     "output_type": "stream",
     "text": [
      "enter range:5\n",
      "fibonacci series : [0, 1, 1, 2, 3]\n",
      "**************\n",
      "Cube of fibonacci series: [0, 1, 1, 8, 27]\n"
     ]
    }
   ],
   "source": [
    "from functools import reduce\n",
    "\n",
    "n=int(input(\"enter range:\"))\n",
    "\n",
    "redce=lambda x, _: x+[x[-1]+x[-2]]\n",
    "fib = lambda n: reduce(redce, range(n-2), [0, 1])\n",
    "\n",
    "print(\"fibonacci series :\",fib(n))\n",
    "\n",
    "print(\"**************\")\n",
    "\n",
    "cube =lambda x:x**3\n",
    "print(\"Cube of fibonacci series:\",list(map(cube,fib(n))))"
   ]
  },
  {
   "cell_type": "code",
   "execution_count": null,
   "metadata": {},
   "outputs": [],
   "source": []
  }
 ],
 "metadata": {
  "kernelspec": {
   "display_name": "Python 3",
   "language": "python",
   "name": "python3"
  },
  "language_info": {
   "codemirror_mode": {
    "name": "ipython",
    "version": 3
   },
   "file_extension": ".py",
   "mimetype": "text/x-python",
   "name": "python",
   "nbconvert_exporter": "python",
   "pygments_lexer": "ipython3",
   "version": "3.8.8"
  }
 },
 "nbformat": 4,
 "nbformat_minor": 2
}
