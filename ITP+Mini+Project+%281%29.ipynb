{
 "cells": [
  {
   "cell_type": "markdown",
   "metadata": {},
   "source": [
    "#### 1.\tA newly opened multinational brand has to make their company logo based on the most occurring characters in the company name. Given a Company name in lower case letters, your task is to get the most common characters in the String. Display the common characters along with their occurrence count. \n",
    "##### Functions/Topics/Data Structures covered here :Dictionaries, Looping, functions"
   ]
  },
  {
   "cell_type": "markdown",
   "metadata": {},
   "source": [
    "#### 2. Validate Email Address : ITP\n",
    "     a. Check for '@' symbol, it should be only 1\n",
    "     b. Only lower case letters are allowed\n",
    "     c. Numbers are allowed\n",
    "     e. No symbols allowed other than '.' & '_'\n",
    "##### Functions/topics/Data structures used here : user defined functions,built-in-functions, list,  for loop, if else structure,logical operators"
   ]
  },
  {
   "cell_type": "markdown",
   "metadata": {},
   "source": [
    "#### 3. Validate PAN Card Number : ITP\n",
    "1. Length must be 10 characters\n",
    "2. First 5 characters must be upper case Aplphabets.\n",
    "3. Next four characters must be Number (0 to 9)\n",
    "4. Last character must be upper case alphabat\n",
    "5. Must not contain any other special symbols\n",
    "\n",
    "##### Functions/Topics/Data Structures Covered here: user defined functions,built-in functions,if else structure,logical operators"
   ]
  },
  {
   "cell_type": "markdown",
   "metadata": {},
   "source": [
    "#### 4.\tConvert list of Nested Dictionaries into a dataframe. [Input : Nested Dictionaries]  ITP\n",
    "\n",
    "    a. Create Nested Dictionary (minimum 3 dictionaries within, Minimum 5 Keys each - can be different or same keys for all dictionaries )\n",
    "    b. access elements of Nested Dictionary\n",
    "        i.access the contents of Inner Dictionaries\n",
    "        ii.access all the elements of Nested dictionary\n",
    "        iii.Access Fare and Destination if Name= Abhi, in Passenger Dictionary\n",
    "        iv. Iterate through Dictionaries and print each value \n",
    "   \n",
    "###### Topics/Functions/Data Structures Covered here: Dictionaries,Nested Dictionaries, Nested For loops, Indexing,     "
   ]
  },
  {
   "cell_type": "markdown",
   "metadata": {},
   "source": [
    "#### 5. Find the Fibonacci Series and their cubes, using Map and Lambda and reduce Functions.\n",
    "##### Functions used here: reduce, map, lambda"
   ]
  },
  {
   "cell_type": "code",
   "execution_count": null,
   "metadata": {},
   "outputs": [],
   "source": []
  }
 ],
 "metadata": {
  "kernelspec": {
   "display_name": "Python 3",
   "language": "python",
   "name": "python3"
  },
  "language_info": {
   "codemirror_mode": {
    "name": "ipython",
    "version": 3
   },
   "file_extension": ".py",
   "mimetype": "text/x-python",
   "name": "python",
   "nbconvert_exporter": "python",
   "pygments_lexer": "ipython3",
   "version": "3.8.8"
  }
 },
 "nbformat": 4,
 "nbformat_minor": 2
}
